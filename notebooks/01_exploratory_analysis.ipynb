{
 "cells": [
  {
   "cell_type": "code",
   "id": "initial_id",
   "metadata": {
    "collapsed": true,
    "ExecuteTime": {
     "end_time": "2025-10-02T22:31:57.558108Z",
     "start_time": "2025-10-02T22:31:57.551304Z"
    }
   },
   "source": [
    "{\n",
    " \"cells\": [\n",
    "  {\n",
    "   \"cell_type\": \"markdown\",\n",
    "   \"metadata\": {},\n",
    "   \"source\": [\n",
    "    \"# Demand Forecasting - Exploratory Analysis\\n\",\n",
    "    \"\\n\",\n",
    "    \"Este notebook realiza un análisis exploratorio del sistema de pronóstico de demanda.\"\n",
    "   ]\n",
    "  },\n",
    "  {\n",
    "   \"cell_type\": \"code\",\n",
    "   \"execution_count\": null,\n",
    "   \"metadata\": {},\n",
    "   \"outputs\": [],\n",
    "   \"source\": [\n",
    "    \"import sys\\n\",\n",
    "    \"sys.path.append('..')\\n\",\n",
    "    \"\\n\",\n",
    "    \"import pandas as pd\\n\",\n",
    "    \"import numpy as np\\n\",\n",
    "    \"import matplotlib.pyplot as plt\\n\",\n",
    "    \"import seaborn as sns\\n\",\n",
    "    \"\\n\",\n",
    "    \"from src.forecasting.data import generate_synthetic_demand, load_data\\n\",\n",
    "    \"from src.forecasting.features import create_all_features, get_feature_columns\\n\",\n",
    "    \"from src.forecasting.models import DemandForecaster\\n\",\n",
    "    \"from src.forecasting.evaluate import calculate_metrics\\n\",\n",
    "    \"\\n\",\n",
    "    \"plt.style.use('seaborn-v0_8-darkgrid')\\n\",\n",
    "    \"%matplotlib inline\"\n",
    "   ]\n",
    "  },\n",
    "  {\n",
    "   \"cell_type\": \"markdown\",\n",
    "   \"metadata\": {},\n",
    "   \"source\": [\n",
    "    \"## 1. Generación y Visualización de Datos\"\n",
    "   ]\n",
    "  },\n",
    "  {\n",
    "   \"cell_type\": \"code\",\n",
    "   \"execution_count\": null,\n",
    "   \"metadata\": {},\n",
    "   \"outputs\": [],\n",
    "   \"source\": [\n",
    "    \"df = generate_synthetic_demand(periods=730)\\n\",\n",
    "    \"print(f\\\"Shape: {df.shape}\\\")\\n\",\n",
    "    \"df.head()\"\n",
    "   ]\n",
    "  },\n",
    "  {\n",
    "   \"cell_type\": \"code\",\n",
    "   \"execution_count\": null,\n",
    "   \"metadata\": {},\n",
    "   \"outputs\": [],\n",
    "   \"source\": [\n",
    "    \"fig, axes = plt.subplots(2, 2, figsize=(15, 10))\\n\",\n",
    "    \"\\n\",\n",
    "    \"axes[0, 0].plot(df['date'], df['demand'])\\n\",\n",
    "    \"axes[0, 0].set_title('Serie Temporal Completa')\\n\",\n",
    "    \"axes[0, 0].set_xlabel('Fecha')\\n\",\n",
    "    \"axes[0, 0].set_ylabel('Demanda')\\n\",\n",
    "    \"\\n\",\n",
    "    \"df['demand'].hist(bins=50, ax=axes[0, 1])\\n\","
   ],
   "outputs": [
    {
     "ename": "SyntaxError",
     "evalue": "incomplete input (3759801978.py, line 66)",
     "output_type": "error",
     "traceback": [
      "  \u001B[36mCell\u001B[39m\u001B[36m \u001B[39m\u001B[32mIn[1]\u001B[39m\u001B[32m, line 66\u001B[39m\n\u001B[31m    \u001B[39m\u001B[31m\"df['demand'].hist(bins=50, ax=axes[0, 1])\\n\",\u001B[39m\n                                                  ^\n\u001B[31mSyntaxError\u001B[39m\u001B[31m:\u001B[39m incomplete input\n"
     ]
    }
   ],
   "execution_count": 1
  }
 ],
 "metadata": {
  "kernelspec": {
   "display_name": "Python 3",
   "language": "python",
   "name": "python3"
  },
  "language_info": {
   "codemirror_mode": {
    "name": "ipython",
    "version": 2
   },
   "file_extension": ".py",
   "mimetype": "text/x-python",
   "name": "python",
   "nbconvert_exporter": "python",
   "pygments_lexer": "ipython2",
   "version": "2.7.6"
  }
 },
 "nbformat": 4,
 "nbformat_minor": 5
}
